{
 "cells": [
  {
   "cell_type": "code",
   "execution_count": 106,
   "metadata": {},
   "outputs": [],
   "source": [
    "#Note: The openai-python library support for Azure OpenAI is in preview.\n",
    "#This model's maximum context length is 8192 tokens\n",
    "# %pip install openai\n",
    "# %pip install azure.search.documents\n",
    "from azure.core.credentials import AzureKeyCredential\n",
    "from azure.search.documents import SearchClient\n",
    "import json\n",
    "import os\n",
    "import openai\n",
    "import sys\n",
    "openai.api_type = \"azure\"\n",
    "openai.api_base = \"https://openai-pulte.openai.azure.com/\"\n",
    "openai.api_version = \"2023-03-15-preview\"\n",
    "# Add below to local environment or use '../inputs/environment.py' to add to local environment (ex: os.environ['OPENAI_API_KEY'] = '')\n",
    "sys.path.append(os.path.abspath('../inputs'))\n",
    "import environment\n",
    "openai.api_key = openai.api_key = os.getenv(\"OPENAI_API_KEY\") \n",
    "azure_search_key = os.environ.get(\"AZURE_SEARCH_KEY\")\n",
    "azure_search_service = os.environ.get(\"AZURE_SEARCH_SERVICE\")\n",
    "azure_search_index = os.environ.get(\"AZURE_SEARCH_INDEX\")"
   ]
  },
  {
   "cell_type": "code",
   "execution_count": 107,
   "metadata": {},
   "outputs": [],
   "source": [
    "question = \"What communities in Michigan having prices starting below 600,000?\"\n",
    "\n",
    "system_rules = \"\"\"You are an AI assistant that helps people find the right new home.\n",
    "Answer ONLY with the facts listed in the list of csv below. If there isn't enough information below, say you don't know. Do not generate answers that don't use the sources below. If asking a clarifying question to the user would help, ask the question.\n",
    "CSV:\n",
    "BrandName,CommunityName,StateName,MinBedrooms,MaxBedrooms,MinBathrooms,MaxBathrooms,StartingFromPrice,MaxBasePrice\n",
    "\"\"\"\n",
    "\n",
    "top = 10"
   ]
  },
  {
   "cell_type": "code",
   "execution_count": 108,
   "metadata": {},
   "outputs": [
    {
     "name": "stdout",
     "output_type": "stream",
     "text": [
      "You are an AI assistant that helps people find the right new home.\n",
      "Answer ONLY with the facts listed in the list of csv below. If there isn't enough information below, say you don't know. Do not generate answers that don't use the sources below. If asking a clarifying question to the user would help, ask the question.\n",
      "CSV:\n",
      "BrandName,CommunityName,StateName,MinBedrooms,MaxBedrooms,MinBathrooms,MaxBathrooms,StartingFromPrice,MaxBasePrice\n",
      "Pulte,Gemstone Valley,Michigan,0,6,0.0,4.0,233990.0,2660600.0\n",
      "Pulte,Long Ridge & Bellewood Estates,Indiana,0,4,2.5,2.5,0.0,0.0\n",
      "Pulte,Fireside at Desert Ridge,Michigan,4,4,3.5,3.5,419990.0,419990.0\n",
      "Pulte,Potomac Yard,Virginia,3,3,2.5,4.5,649990.0,899035.0\n",
      "Centex,Spence Creek,Tennessee,3,5,2.5,4.5,192990.0,328990.0\n",
      "Centex,Magnolia Park,Florida,2,4,2.0,3.5,144990.0,224990.0\n",
      "Pulte,Jonathans Landing,Massachusetts,2,2,2.0,2.0,325900.0,325900.0\n",
      "Pulte,Hawthorn of Aurora,Ohio,4,4,2.5,3.5,349990.0,411990.0\n",
      "Pulte,Stonehaven-The Enclave,Texas,3,5,2.0,3.5,224990.0,257990.0\n",
      "Pulte,PAM DEV,Arizona,4,4,3.0,3.0,310000.0,310000.0\n",
      "\n"
     ]
    }
   ],
   "source": [
    "credential = AzureKeyCredential(azure_search_key)\n",
    "search_client = SearchClient(\n",
    "    endpoint=f\"https://{azure_search_service}.search.windows.net\",\n",
    "    index_name=azure_search_index,\n",
    "    credential=credential)\n",
    "search_text = '*'\n",
    "search_options = {\n",
    "    'filter': 'CommunityActiveFlag eq true',\n",
    "    'select': 'BrandName,CommunityName,StateName,MinBedrooms,MaxBedrooms,MinBathrooms,MaxBathrooms,StartingFromPrice,MaxBasePrice',\n",
    "    'top': top\n",
    "}\n",
    "search_results = search_client.search(search_text=search_text, **search_options)\n",
    "# Lower cost to supply data as CSV versus JSON due to only having to list the header once\n",
    "for doc in search_results:\n",
    "    system_rules += f\"{doc['BrandName']},{doc['CommunityName']},{doc['StateName']},{doc['MinBedrooms']},{doc['MaxBedrooms']},{doc['MinBathrooms']},{doc['MaxBathrooms']},{doc['StartingFromPrice']},{doc['MaxBasePrice']}\\n\"\n",
    "print(system_rules)"
   ]
  },
  {
   "cell_type": "code",
   "execution_count": 109,
   "metadata": {},
   "outputs": [
    {
     "name": "stdout",
     "output_type": "stream",
     "text": [
      "The only community in Michigan with prices starting below 600,000 is Gemstone Valley by Pulte, with a starting price of 233,990.\n",
      "\n",
      "Full Returned Object:\n",
      "\n",
      "{\n",
      "  \"choices\": [\n",
      "    {\n",
      "      \"finish_reason\": \"stop\",\n",
      "      \"index\": 0,\n",
      "      \"message\": {\n",
      "        \"content\": \"The only community in Michigan with prices starting below 600,000 is Gemstone Valley by Pulte, with a starting price of 233,990.\",\n",
      "        \"role\": \"assistant\"\n",
      "      }\n",
      "    }\n",
      "  ],\n",
      "  \"created\": 1681495726,\n",
      "  \"id\": \"chatcmpl-75I8kWVBYvPdsAl4hDATO5cxUksfs\",\n",
      "  \"model\": \"gpt-35-turbo\",\n",
      "  \"object\": \"chat.completion\",\n",
      "  \"usage\": {\n",
      "    \"completion_tokens\": 34,\n",
      "    \"prompt_tokens\": 461,\n",
      "    \"total_tokens\": 495\n",
      "  }\n",
      "}\n"
     ]
    }
   ],
   "source": [
    "response = openai.ChatCompletion.create(\n",
    "    engine=\"GPT-35\",\n",
    "    messages = [\n",
    "        {\n",
    "            \"role\":\"system\",\n",
    "            \"content\": system_rules\n",
    "        },\n",
    "        {\n",
    "            \"role\":\"user\",\n",
    "            \"content\": question\n",
    "        }\n",
    "    ],\n",
    "    temperature=0.7,\n",
    "    max_tokens=800,\n",
    "    top_p=0.95,\n",
    "    frequency_penalty=0,\n",
    "    presence_penalty=0,\n",
    "    stop=None)\n",
    "print(response.choices[0].message.content)\n",
    "print('\\nFull Returned Object:\\n')\n",
    "print(response)"
   ]
  }
 ],
 "metadata": {
  "kernelspec": {
   "display_name": "base",
   "language": "python",
   "name": "python3"
  },
  "language_info": {
   "codemirror_mode": {
    "name": "ipython",
    "version": 3
   },
   "file_extension": ".py",
   "mimetype": "text/x-python",
   "name": "python",
   "nbconvert_exporter": "python",
   "pygments_lexer": "ipython3",
   "version": "3.10.9"
  },
  "orig_nbformat": 4
 },
 "nbformat": 4,
 "nbformat_minor": 2
}
