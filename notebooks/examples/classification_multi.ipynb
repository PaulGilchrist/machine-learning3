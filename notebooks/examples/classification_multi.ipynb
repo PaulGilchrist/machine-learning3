{
 "cells": [
  {
   "attachments": {},
   "cell_type": "markdown",
   "metadata": {},
   "source": [
    "# Classification of Text Using Multiple Inputs  - Determine Which Passengers Will Survive"
   ]
  },
  {
   "cell_type": "code",
   "execution_count": 1,
   "metadata": {},
   "outputs": [],
   "source": [
    "import matplotlib.pyplot as plt\n",
    "import pandas as pd\n",
    "from sklearn import preprocessing\n",
    "from sklearn.model_selection import train_test_split\n",
    "import torch\n",
    "import torch.nn as nn\n",
    "import torch.optim as optim\n",
    "\n",
    "titanic_data = pd.read_csv('../../inputs/titanic_train.csv')\n",
    "titanic_data.head()\n",
    "\n",
    "# We are defaulting to CPU, but you may want to compare CPU vs GPU performance\n",
    "# device = \"mps\" if torch.backends.mps.is_available() else \"cuda\" if torch.cuda.is_available() else \"cpu\"\n",
    "device = \"cpu\" # Use cpu since this dataset is too small to take advantage of the GPU"
   ]
  },
  {
   "cell_type": "code",
   "execution_count": 2,
   "metadata": {},
   "outputs": [
    {
     "data": {
      "text/html": [
       "<div>\n",
       "<style scoped>\n",
       "    .dataframe tbody tr th:only-of-type {\n",
       "        vertical-align: middle;\n",
       "    }\n",
       "\n",
       "    .dataframe tbody tr th {\n",
       "        vertical-align: top;\n",
       "    }\n",
       "\n",
       "    .dataframe thead th {\n",
       "        text-align: right;\n",
       "    }\n",
       "</style>\n",
       "<table border=\"1\" class=\"dataframe\">\n",
       "  <thead>\n",
       "    <tr style=\"text-align: right;\">\n",
       "      <th></th>\n",
       "      <th>Survived</th>\n",
       "      <th>Pclass</th>\n",
       "      <th>Sex</th>\n",
       "      <th>Age</th>\n",
       "      <th>Fare</th>\n",
       "    </tr>\n",
       "  </thead>\n",
       "  <tbody>\n",
       "    <tr>\n",
       "      <th>0</th>\n",
       "      <td>0</td>\n",
       "      <td>3</td>\n",
       "      <td>male</td>\n",
       "      <td>22.0</td>\n",
       "      <td>7.2500</td>\n",
       "    </tr>\n",
       "    <tr>\n",
       "      <th>1</th>\n",
       "      <td>1</td>\n",
       "      <td>1</td>\n",
       "      <td>female</td>\n",
       "      <td>38.0</td>\n",
       "      <td>71.2833</td>\n",
       "    </tr>\n",
       "    <tr>\n",
       "      <th>2</th>\n",
       "      <td>1</td>\n",
       "      <td>3</td>\n",
       "      <td>female</td>\n",
       "      <td>26.0</td>\n",
       "      <td>7.9250</td>\n",
       "    </tr>\n",
       "    <tr>\n",
       "      <th>3</th>\n",
       "      <td>1</td>\n",
       "      <td>1</td>\n",
       "      <td>female</td>\n",
       "      <td>35.0</td>\n",
       "      <td>53.1000</td>\n",
       "    </tr>\n",
       "    <tr>\n",
       "      <th>4</th>\n",
       "      <td>0</td>\n",
       "      <td>3</td>\n",
       "      <td>male</td>\n",
       "      <td>35.0</td>\n",
       "      <td>8.0500</td>\n",
       "    </tr>\n",
       "  </tbody>\n",
       "</table>\n",
       "</div>"
      ],
      "text/plain": [
       "   Survived  Pclass     Sex   Age     Fare\n",
       "0         0       3    male  22.0   7.2500\n",
       "1         1       1  female  38.0  71.2833\n",
       "2         1       3  female  26.0   7.9250\n",
       "3         1       1  female  35.0  53.1000\n",
       "4         0       3    male  35.0   8.0500"
      ]
     },
     "execution_count": 2,
     "metadata": {},
     "output_type": "execute_result"
    }
   ],
   "source": [
    "# Remove columns that will not help us predict survivability\n",
    "unwanted_features = ['PassengerId', 'Name', 'Ticket', 'Cabin', 'SibSp', 'Parch', 'Embarked']\n",
    "titanic_data = titanic_data.drop(unwanted_features, axis=1)\n",
    "# Cleanup\n",
    "titanic_data = titanic_data.dropna() # Remove rows with missing data\n",
    "titanic_data.head()"
   ]
  },
  {
   "cell_type": "code",
   "execution_count": 3,
   "metadata": {},
   "outputs": [
    {
     "data": {
      "text/html": [
       "<div>\n",
       "<style scoped>\n",
       "    .dataframe tbody tr th:only-of-type {\n",
       "        vertical-align: middle;\n",
       "    }\n",
       "\n",
       "    .dataframe tbody tr th {\n",
       "        vertical-align: top;\n",
       "    }\n",
       "\n",
       "    .dataframe thead th {\n",
       "        text-align: right;\n",
       "    }\n",
       "</style>\n",
       "<table border=\"1\" class=\"dataframe\">\n",
       "  <thead>\n",
       "    <tr style=\"text-align: right;\">\n",
       "      <th></th>\n",
       "      <th>Survived</th>\n",
       "      <th>Pclass</th>\n",
       "      <th>Sex</th>\n",
       "      <th>Age</th>\n",
       "      <th>Fare</th>\n",
       "    </tr>\n",
       "  </thead>\n",
       "  <tbody>\n",
       "    <tr>\n",
       "      <th>0</th>\n",
       "      <td>0</td>\n",
       "      <td>3</td>\n",
       "      <td>1</td>\n",
       "      <td>22.0</td>\n",
       "      <td>7.2500</td>\n",
       "    </tr>\n",
       "    <tr>\n",
       "      <th>1</th>\n",
       "      <td>1</td>\n",
       "      <td>1</td>\n",
       "      <td>0</td>\n",
       "      <td>38.0</td>\n",
       "      <td>71.2833</td>\n",
       "    </tr>\n",
       "    <tr>\n",
       "      <th>2</th>\n",
       "      <td>1</td>\n",
       "      <td>3</td>\n",
       "      <td>0</td>\n",
       "      <td>26.0</td>\n",
       "      <td>7.9250</td>\n",
       "    </tr>\n",
       "    <tr>\n",
       "      <th>3</th>\n",
       "      <td>1</td>\n",
       "      <td>1</td>\n",
       "      <td>0</td>\n",
       "      <td>35.0</td>\n",
       "      <td>53.1000</td>\n",
       "    </tr>\n",
       "    <tr>\n",
       "      <th>4</th>\n",
       "      <td>0</td>\n",
       "      <td>3</td>\n",
       "      <td>1</td>\n",
       "      <td>35.0</td>\n",
       "      <td>8.0500</td>\n",
       "    </tr>\n",
       "  </tbody>\n",
       "</table>\n",
       "</div>"
      ],
      "text/plain": [
       "   Survived  Pclass  Sex   Age     Fare\n",
       "0         0       3    1  22.0   7.2500\n",
       "1         1       1    0  38.0  71.2833\n",
       "2         1       3    0  26.0   7.9250\n",
       "3         1       1    0  35.0  53.1000\n",
       "4         0       3    1  35.0   8.0500"
      ]
     },
     "execution_count": 3,
     "metadata": {},
     "output_type": "execute_result"
    }
   ],
   "source": [
    "# Convert 'Sex' enums to encoding using fit_transform since there are only 2 possibilities (0 or 1)\n",
    "le = preprocessing.LabelEncoder()\n",
    "titanic_data['Sex'] = le.fit_transform(titanic_data['Sex'])\n",
    "titanic_data.head()"
   ]
  },
  {
   "cell_type": "code",
   "execution_count": 4,
   "metadata": {},
   "outputs": [
    {
     "data": {
      "text/html": [
       "<div>\n",
       "<style scoped>\n",
       "    .dataframe tbody tr th:only-of-type {\n",
       "        vertical-align: middle;\n",
       "    }\n",
       "\n",
       "    .dataframe tbody tr th {\n",
       "        vertical-align: top;\n",
       "    }\n",
       "\n",
       "    .dataframe thead th {\n",
       "        text-align: right;\n",
       "    }\n",
       "</style>\n",
       "<table border=\"1\" class=\"dataframe\">\n",
       "  <thead>\n",
       "    <tr style=\"text-align: right;\">\n",
       "      <th></th>\n",
       "      <th>Sex</th>\n",
       "      <th>Age</th>\n",
       "      <th>Fare</th>\n",
       "      <th>Pclass_1</th>\n",
       "      <th>Pclass_2</th>\n",
       "      <th>Pclass_3</th>\n",
       "    </tr>\n",
       "  </thead>\n",
       "  <tbody>\n",
       "    <tr>\n",
       "      <th>0</th>\n",
       "      <td>1</td>\n",
       "      <td>22.0</td>\n",
       "      <td>7.2500</td>\n",
       "      <td>0</td>\n",
       "      <td>0</td>\n",
       "      <td>1</td>\n",
       "    </tr>\n",
       "    <tr>\n",
       "      <th>1</th>\n",
       "      <td>0</td>\n",
       "      <td>38.0</td>\n",
       "      <td>71.2833</td>\n",
       "      <td>1</td>\n",
       "      <td>0</td>\n",
       "      <td>0</td>\n",
       "    </tr>\n",
       "    <tr>\n",
       "      <th>2</th>\n",
       "      <td>0</td>\n",
       "      <td>26.0</td>\n",
       "      <td>7.9250</td>\n",
       "      <td>0</td>\n",
       "      <td>0</td>\n",
       "      <td>1</td>\n",
       "    </tr>\n",
       "    <tr>\n",
       "      <th>3</th>\n",
       "      <td>0</td>\n",
       "      <td>35.0</td>\n",
       "      <td>53.1000</td>\n",
       "      <td>1</td>\n",
       "      <td>0</td>\n",
       "      <td>0</td>\n",
       "    </tr>\n",
       "    <tr>\n",
       "      <th>4</th>\n",
       "      <td>1</td>\n",
       "      <td>35.0</td>\n",
       "      <td>8.0500</td>\n",
       "      <td>0</td>\n",
       "      <td>0</td>\n",
       "      <td>1</td>\n",
       "    </tr>\n",
       "  </tbody>\n",
       "</table>\n",
       "</div>"
      ],
      "text/plain": [
       "   Sex   Age     Fare  Pclass_1  Pclass_2  Pclass_3\n",
       "0    1  22.0   7.2500         0         0         1\n",
       "1    0  38.0  71.2833         1         0         0\n",
       "2    0  26.0   7.9250         0         0         1\n",
       "3    0  35.0  53.1000         1         0         0\n",
       "4    1  35.0   8.0500         0         0         1"
      ]
     },
     "execution_count": 4,
     "metadata": {},
     "output_type": "execute_result"
    }
   ],
   "source": [
    "# Convert 'Pclass' enum to encoding - using one hot encoding since there are more than 2 possibilities\n",
    "features = ['Pclass', 'Sex', 'Age', 'Fare']\n",
    "titanic_features = titanic_data[features]\n",
    "titanic_features = pd.get_dummies(titanic_features, columns=['Pclass'])\n",
    "titanic_features.head()"
   ]
  },
  {
   "cell_type": "code",
   "execution_count": 5,
   "metadata": {},
   "outputs": [
    {
     "data": {
      "text/html": [
       "<div>\n",
       "<style scoped>\n",
       "    .dataframe tbody tr th:only-of-type {\n",
       "        vertical-align: middle;\n",
       "    }\n",
       "\n",
       "    .dataframe tbody tr th {\n",
       "        vertical-align: top;\n",
       "    }\n",
       "\n",
       "    .dataframe thead th {\n",
       "        text-align: right;\n",
       "    }\n",
       "</style>\n",
       "<table border=\"1\" class=\"dataframe\">\n",
       "  <thead>\n",
       "    <tr style=\"text-align: right;\">\n",
       "      <th></th>\n",
       "      <th>Survived</th>\n",
       "    </tr>\n",
       "  </thead>\n",
       "  <tbody>\n",
       "    <tr>\n",
       "      <th>0</th>\n",
       "      <td>0</td>\n",
       "    </tr>\n",
       "    <tr>\n",
       "      <th>1</th>\n",
       "      <td>1</td>\n",
       "    </tr>\n",
       "    <tr>\n",
       "      <th>2</th>\n",
       "      <td>1</td>\n",
       "    </tr>\n",
       "    <tr>\n",
       "      <th>3</th>\n",
       "      <td>1</td>\n",
       "    </tr>\n",
       "    <tr>\n",
       "      <th>4</th>\n",
       "      <td>0</td>\n",
       "    </tr>\n",
       "  </tbody>\n",
       "</table>\n",
       "</div>"
      ],
      "text/plain": [
       "   Survived\n",
       "0         0\n",
       "1         1\n",
       "2         1\n",
       "3         1\n",
       "4         0"
      ]
     },
     "execution_count": 5,
     "metadata": {},
     "output_type": "execute_result"
    }
   ],
   "source": [
    "# Get the target we are trying to predict\n",
    "titanic_target = titanic_data[['Survived']]\n",
    "titanic_target.head()"
   ]
  },
  {
   "cell_type": "code",
   "execution_count": 6,
   "metadata": {},
   "outputs": [
    {
     "name": "stdout",
     "output_type": "stream",
     "text": [
      "Epoch 1000 (7%), Loss: 0.658\n",
      "Epoch 2000 (13%), Loss: 0.638\n",
      "Epoch 3000 (20%), Loss: 0.624\n",
      "Epoch 4000 (27%), Loss: 0.611\n",
      "Epoch 5000 (33%), Loss: 0.596\n",
      "Epoch 6000 (40%), Loss: 0.580\n",
      "Epoch 7000 (47%), Loss: 0.564\n",
      "Epoch 8000 (53%), Loss: 0.551\n",
      "Epoch 9000 (60%), Loss: 0.540\n",
      "Epoch 10000 (67%), Loss: 0.530\n",
      "Epoch 11000 (73%), Loss: 0.520\n",
      "Epoch 12000 (80%), Loss: 0.512\n",
      "Epoch 13000 (87%), Loss: 0.504\n",
      "Epoch 14000 (93%), Loss: 0.497\n",
      "Epoch 15000 (100%), Loss: 0.490\n"
     ]
    },
    {
     "data": {
      "text/plain": [
       "[<matplotlib.lines.Line2D at 0xffff2df0a100>]"
      ]
     },
     "execution_count": 6,
     "metadata": {},
     "output_type": "execute_result"
    },
    {
     "data": {
      "image/png": "[encoded data removed]",
      "text/plain": [
       "<Figure size 1200x800 with 1 Axes>"
      ]
     },
     "metadata": {},
     "output_type": "display_data"
    }
   ],
   "source": [
    "# Split dataset into 80% training data and 20% test data, then convert into tensors\n",
    "x_train, x_test, y_train, y_test = train_test_split(titanic_features, titanic_target, test_size=0.2, random_state=0)\n",
    "x_train_tensor = torch.from_numpy(x_train.values).float()\n",
    "x_test_tensor = torch.from_numpy(x_test.values).float()\n",
    "y_train_tensor = torch.from_numpy(y_train.values).view(1,-1)[0] # reshape to 1D tensor\n",
    "y_test_tensor = torch.from_numpy(y_test.values).view(1,-1)[0] # reshape to 1D tensor\n",
    "\n",
    "class Net(nn.Module):\n",
    "    def __init__(self) -> None:\n",
    "        super(Net, self).__init__()\n",
    "        input_size = 6 # Number of features/columns in our input dataset\n",
    "        hidden_size = 10\n",
    "        output_size = 2 # Number of predictions/columns in our output dataset (survived or not)\n",
    "        # instantiate 3 linear, fully connected layers\n",
    "        self.fc1 = nn.Linear(input_size, hidden_size)\n",
    "        self.fc2 = nn.Linear(hidden_size, hidden_size)\n",
    "        self.fc3 = nn.Linear(hidden_size, output_size)\n",
    "    def forward(self, x):\n",
    "        x = torch.sigmoid(self.fc1(x)) # Activation 0 to 1\n",
    "        x = torch.sigmoid(self.fc2(x)) # Activation 0 to 1\n",
    "        x = self.fc3(x) # Linear layer with no activation\n",
    "        return torch.log_softmax(x, dim=-1) # Classification along with NLL loss log(softmax(x))\n",
    "\n",
    "model = Net()\n",
    "criterion = nn.NLLLoss() # Negative log likelihood loss - Useful to train a classification problem with C classes\n",
    "optimizer = optim.Adam(model.parameters(), lr=0.0001) # First-order gradient-based optimization of stochastic objective functions, based on adaptive estimates of lower-order moments\n",
    "\n",
    "def train(model, optimizer, criterion, x_train, y_train, num_epochs):\n",
    "    total_loss = 0\n",
    "    plot_losses = []\n",
    "    model.train() # Put the model in \"training mode\", which turns on dropout and batch normalization\n",
    "    for epoch in range(1, num_epochs+1):\n",
    "        optimizer.zero_grad()\n",
    "        y_predicted = model(x_train)\n",
    "        loss = criterion(y_predicted, y_train)\n",
    "        total_loss += loss.item()\n",
    "        loss.backward() # Determine gradients\n",
    "        optimizer.step() # Apply gradients\n",
    "        if epoch % 1000 == 0:\n",
    "            percentComplete = epoch/num_epochs*100\n",
    "            print(f'Epoch {epoch} ({percentComplete:.0f}%), Loss: {total_loss/epoch:.3f}')\n",
    "        plot_losses.append(total_loss/epoch)\n",
    "    return plot_losses\n",
    "\n",
    "plot_losses = train(model, optimizer, criterion, x_train_tensor, y_train_tensor, num_epochs = 15000)\n",
    "fig, ax = plt.subplots(figsize=(12, 8))\n",
    "plt.title(\"Convergence\")\n",
    "plt.xlabel(\"Epochs\")\n",
    "plt.ylabel(\"Loss\")\n",
    "plt.plot(plot_losses)"
   ]
  },
  {
   "cell_type": "code",
   "execution_count": 7,
   "metadata": {},
   "outputs": [
    {
     "name": "stdout",
     "output_type": "stream",
     "text": [
      "Test Accuracy: 86.0%\n"
     ]
    }
   ],
   "source": [
    "def test(model, x, y):\n",
    "    model.eval() # Put the model in \"evaluation mode\", this turns off dropout and batch normalization.\n",
    "    with torch.no_grad():\n",
    "        # make predictions on test set\n",
    "        y_predicted = model(x)\n",
    "        # calculate number of correct predictions\n",
    "        correct = (torch.argmax(y_predicted, dim=1) == y).sum().item()\n",
    "        # calculate accuracy\n",
    "        accuracy = 100 * correct / len(y)\n",
    "    print(f\"Test Accuracy: {accuracy:>0.1f}%\")\n",
    "\n",
    "test(model, x_test_tensor, y_test_tensor)"
   ]
  }
 ],
 "metadata": {
  "kernelspec": {
   "display_name": "base",
   "language": "python",
   "name": "python3"
  },
  "language_info": {
   "codemirror_mode": {
    "name": "ipython",
    "version": 3
   },
   "file_extension": ".py",
   "mimetype": "text/x-python",
   "name": "python",
   "nbconvert_exporter": "python",
   "pygments_lexer": "ipython3",
   "version": "3.9.13"
  },
  "orig_nbformat": 4,
  "vscode": {
   "interpreter": {
    "hash": "411f3f150035de440886c1aa5152b7a0afb2ab2d66c6bd7924aa8973985b1541"
   }
  }
 },
 "nbformat": 4,
 "nbformat_minor": 2
}
